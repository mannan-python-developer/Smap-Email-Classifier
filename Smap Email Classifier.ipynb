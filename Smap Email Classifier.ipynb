{
 "cells": [
  {
   "cell_type": "code",
   "execution_count": 1,
   "id": "7cdfc681-1643-40a5-9861-ebe35fa65ee7",
   "metadata": {},
   "outputs": [],
   "source": [
    "import numpy as np\n",
    "import pandas as pd\n",
    "from sklearn.model_selection import train_test_split\n",
    "from sklearn.feature_extraction.text import TfidfVectorizer\n",
    "from sklearn.linear_model import LogisticRegression\n",
    "from sklearn.metrics import accuracy_score"
   ]
  },
  {
   "cell_type": "code",
   "execution_count": 2,
   "id": "a5c80856-3b3f-4255-9028-3fcb491a38c8",
   "metadata": {},
   "outputs": [],
   "source": [
    "df = pd.read_csv(r'G:\\Machine Learning\\Datasets\\mail_data.csv')"
   ]
  },
  {
   "cell_type": "code",
   "execution_count": 3,
   "id": "565c35ca-968e-41f4-8f7f-f3e69c4bb678",
   "metadata": {},
   "outputs": [
    {
     "data": {
      "text/html": [
       "<div>\n",
       "<style scoped>\n",
       "    .dataframe tbody tr th:only-of-type {\n",
       "        vertical-align: middle;\n",
       "    }\n",
       "\n",
       "    .dataframe tbody tr th {\n",
       "        vertical-align: top;\n",
       "    }\n",
       "\n",
       "    .dataframe thead th {\n",
       "        text-align: right;\n",
       "    }\n",
       "</style>\n",
       "<table border=\"1\" class=\"dataframe\">\n",
       "  <thead>\n",
       "    <tr style=\"text-align: right;\">\n",
       "      <th></th>\n",
       "      <th>Category</th>\n",
       "      <th>Message</th>\n",
       "    </tr>\n",
       "  </thead>\n",
       "  <tbody>\n",
       "    <tr>\n",
       "      <th>0</th>\n",
       "      <td>ham</td>\n",
       "      <td>Go until jurong point, crazy.. Available only ...</td>\n",
       "    </tr>\n",
       "    <tr>\n",
       "      <th>1</th>\n",
       "      <td>ham</td>\n",
       "      <td>Ok lar... Joking wif u oni...</td>\n",
       "    </tr>\n",
       "    <tr>\n",
       "      <th>2</th>\n",
       "      <td>spam</td>\n",
       "      <td>Free entry in 2 a wkly comp to win FA Cup fina...</td>\n",
       "    </tr>\n",
       "    <tr>\n",
       "      <th>3</th>\n",
       "      <td>ham</td>\n",
       "      <td>U dun say so early hor... U c already then say...</td>\n",
       "    </tr>\n",
       "    <tr>\n",
       "      <th>4</th>\n",
       "      <td>ham</td>\n",
       "      <td>Nah I don't think he goes to usf, he lives aro...</td>\n",
       "    </tr>\n",
       "  </tbody>\n",
       "</table>\n",
       "</div>"
      ],
      "text/plain": [
       "  Category                                            Message\n",
       "0      ham  Go until jurong point, crazy.. Available only ...\n",
       "1      ham                      Ok lar... Joking wif u oni...\n",
       "2     spam  Free entry in 2 a wkly comp to win FA Cup fina...\n",
       "3      ham  U dun say so early hor... U c already then say...\n",
       "4      ham  Nah I don't think he goes to usf, he lives aro..."
      ]
     },
     "execution_count": 3,
     "metadata": {},
     "output_type": "execute_result"
    }
   ],
   "source": [
    "df.head()"
   ]
  },
  {
   "cell_type": "code",
   "execution_count": 4,
   "id": "98ca3ed9-863d-4990-9ccf-bc58a0b88525",
   "metadata": {},
   "outputs": [],
   "source": [
    "data = df.where((pd.notnull(df)), \"\")"
   ]
  },
  {
   "cell_type": "code",
   "execution_count": 5,
   "id": "4873b780-73db-4006-91b3-8208f7282f23",
   "metadata": {},
   "outputs": [
    {
     "name": "stdout",
     "output_type": "stream",
     "text": [
      "<class 'pandas.core.frame.DataFrame'>\n",
      "RangeIndex: 5572 entries, 0 to 5571\n",
      "Data columns (total 2 columns):\n",
      " #   Column    Non-Null Count  Dtype \n",
      "---  ------    --------------  ----- \n",
      " 0   Category  5572 non-null   object\n",
      " 1   Message   5572 non-null   object\n",
      "dtypes: object(2)\n",
      "memory usage: 87.2+ KB\n"
     ]
    }
   ],
   "source": [
    "data.info()"
   ]
  },
  {
   "cell_type": "code",
   "execution_count": 6,
   "id": "989c1a6a-0e76-4f98-8f1b-2d0c3be8fcb0",
   "metadata": {},
   "outputs": [],
   "source": [
    "data.loc[data[\"Category\"] == \"spam\", \"Category\", ] = 0\n",
    "data.loc[data[\"Category\"] == \"ham\", \"Category\", ] = 1"
   ]
  },
  {
   "cell_type": "code",
   "execution_count": 7,
   "id": "054e6dec-ec12-4c03-8fa2-caf52611cd0c",
   "metadata": {},
   "outputs": [],
   "source": [
    "X = data[\"Message\"]\n",
    "Y = data[\"Category\"]"
   ]
  },
  {
   "cell_type": "code",
   "execution_count": 8,
   "id": "53376093-fac8-4257-8e9f-bd85b1a6b511",
   "metadata": {},
   "outputs": [
    {
     "name": "stdout",
     "output_type": "stream",
     "text": [
      "0       Go until jurong point, crazy.. Available only ...\n",
      "1                           Ok lar... Joking wif u oni...\n",
      "2       Free entry in 2 a wkly comp to win FA Cup fina...\n",
      "3       U dun say so early hor... U c already then say...\n",
      "4       Nah I don't think he goes to usf, he lives aro...\n",
      "                              ...                        \n",
      "5567    This is the 2nd time we have tried 2 contact u...\n",
      "5568                 Will ü b going to esplanade fr home?\n",
      "5569    Pity, * was in mood for that. So...any other s...\n",
      "5570    The guy did some bitching but I acted like i'd...\n",
      "5571                           Rofl. Its true to its name\n",
      "Name: Message, Length: 5572, dtype: object\n"
     ]
    }
   ],
   "source": [
    "print(X)"
   ]
  },
  {
   "cell_type": "code",
   "execution_count": 9,
   "id": "d8c255f5-e238-41dd-abb2-2422e7c3ec30",
   "metadata": {},
   "outputs": [
    {
     "name": "stdout",
     "output_type": "stream",
     "text": [
      "0       1\n",
      "1       1\n",
      "2       0\n",
      "3       1\n",
      "4       1\n",
      "       ..\n",
      "5567    0\n",
      "5568    1\n",
      "5569    1\n",
      "5570    1\n",
      "5571    1\n",
      "Name: Category, Length: 5572, dtype: object\n"
     ]
    }
   ],
   "source": [
    "print(Y)"
   ]
  },
  {
   "cell_type": "code",
   "execution_count": 10,
   "id": "850ada44-5350-4c61-8e2d-4d51dfbcdc48",
   "metadata": {},
   "outputs": [],
   "source": [
    "X_train, X_test, Y_train, Y_test = train_test_split(X, Y, test_size=0.2, random_state=3)"
   ]
  },
  {
   "cell_type": "code",
   "execution_count": 11,
   "id": "ea6534ee-b7db-4dc8-9587-05731088b3b7",
   "metadata": {},
   "outputs": [
    {
     "name": "stdout",
     "output_type": "stream",
     "text": [
      "(5572,)\n",
      "(4457,)\n",
      "(1115,)\n"
     ]
    }
   ],
   "source": [
    "print(X.shape)\n",
    "print(X_train.shape)\n",
    "print(X_test.shape)"
   ]
  },
  {
   "cell_type": "code",
   "execution_count": 12,
   "id": "843e316b-93a6-4c25-b2fd-b04c54469608",
   "metadata": {},
   "outputs": [
    {
     "name": "stdout",
     "output_type": "stream",
     "text": [
      "(5572,)\n",
      "(4457,)\n",
      "(1115,)\n"
     ]
    }
   ],
   "source": [
    "print(Y.shape)\n",
    "print(Y_train.shape)\n",
    "print(Y_test.shape)"
   ]
  },
  {
   "cell_type": "code",
   "execution_count": 13,
   "id": "2702f675-892d-4368-969e-6c294a7aed63",
   "metadata": {},
   "outputs": [],
   "source": [
    "feature_extraction = TfidfVectorizer(min_df=1, stop_words=\"english\", lowercase=True)\n",
    "X_train_feature = feature_extraction.fit_transform(X_train)\n",
    "X_test_feature = feature_extraction.transform(X_test)\n",
    "\n",
    "# Ensure Y_train and Y_test are integers\n",
    "Y_train = Y_train.astype('int')\n",
    "Y_test = Y_test.astype('int')"
   ]
  },
  {
   "cell_type": "code",
   "execution_count": 14,
   "id": "903d0ebb-d381-433e-a3d1-88fe175df678",
   "metadata": {},
   "outputs": [
    {
     "name": "stdout",
     "output_type": "stream",
     "text": [
      "3075                  Don know. I did't msg him recently.\n",
      "1787    Do you know why god created gap between your f...\n",
      "1614                         Thnx dude. u guys out 2nite?\n",
      "4304                                      Yup i'm free...\n",
      "3266    44 7732584351, Do you want a New Nokia 3510i c...\n",
      "                              ...                        \n",
      "789     5 Free Top Polyphonic Tones call 087018728737,...\n",
      "968     What do u want when i come back?.a beautiful n...\n",
      "1667    Guess who spent all last night phasing in and ...\n",
      "3321    Eh sorry leh... I din c ur msg. Not sad alread...\n",
      "1688    Free Top ringtone -sub to weekly ringtone-get ...\n",
      "Name: Message, Length: 4457, dtype: object\n"
     ]
    }
   ],
   "source": [
    "print(X_train)"
   ]
  },
  {
   "cell_type": "code",
   "execution_count": 15,
   "id": "dd541981-777c-4ded-9c6f-f6d02300419f",
   "metadata": {},
   "outputs": [
    {
     "name": "stdout",
     "output_type": "stream",
     "text": [
      "  (0, 7271)\t0.1940327008179069\n",
      "  (0, 6920)\t0.20571591693537986\n",
      "  (0, 5373)\t0.2365698724638063\n",
      "  (0, 5213)\t0.1988547357502182\n",
      "  (0, 4386)\t0.18353336340308998\n",
      "  (0, 1549)\t0.2646498848307188\n",
      "  (0, 1405)\t0.3176863938914351\n",
      "  (0, 1361)\t0.25132445289897426\n",
      "  (0, 1082)\t0.2451068436245027\n",
      "  (0, 1041)\t0.28016206931555726\n",
      "  (0, 405)\t0.2381316303003606\n",
      "  (0, 306)\t0.23975986557206702\n",
      "  (0, 20)\t0.30668032384591537\n",
      "  (0, 14)\t0.26797874471323896\n",
      "  (0, 9)\t0.2852706805264544\n",
      "  (0, 1)\t0.2381316303003606\n",
      "  (1, 7368)\t0.29957800964520975\n",
      "  (1, 6732)\t0.42473488678029325\n",
      "  (1, 6588)\t0.3298937975962767\n",
      "  (1, 6507)\t0.26731535902873493\n",
      "  (1, 6214)\t0.3621564482127515\n",
      "  (1, 4729)\t0.22965776503163893\n",
      "  (1, 4418)\t0.3457696891316818\n",
      "  (1, 3491)\t0.496093956101028\n",
      "  (2, 7205)\t0.22341717215670331\n",
      "  :\t:\n",
      "  (1110, 3167)\t0.5718357066163949\n",
      "  (1111, 7353)\t0.4991205841293424\n",
      "  (1111, 6787)\t0.40050175714278885\n",
      "  (1111, 6033)\t0.4714849709283488\n",
      "  (1111, 3227)\t0.44384935772735523\n",
      "  (1111, 2440)\t0.4137350055985486\n",
      "  (1112, 7071)\t0.33558524648843113\n",
      "  (1112, 6777)\t0.32853717524096393\n",
      "  (1112, 6297)\t0.3056896872268727\n",
      "  (1112, 5778)\t0.22807428098549426\n",
      "  (1112, 5695)\t0.3381604952481646\n",
      "  (1112, 5056)\t0.2559183043595413\n",
      "  (1112, 4170)\t0.3307835623173863\n",
      "  (1112, 2329)\t0.241856898377491\n",
      "  (1112, 1683)\t0.4017087436272034\n",
      "  (1112, 1109)\t0.35334496762883244\n",
      "  (1113, 4080)\t0.3045947361955407\n",
      "  (1113, 4038)\t0.37023520529413706\n",
      "  (1113, 3811)\t0.28103080586555096\n",
      "  (1113, 3281)\t0.33232508601719535\n",
      "  (1113, 3113)\t0.33840833425155675\n",
      "  (1113, 2852)\t0.5956422931588335\n",
      "  (1113, 2224)\t0.3337959267435311\n",
      "  (1114, 4557)\t0.5196253874825217\n",
      "  (1114, 4033)\t0.8543942045002639\n"
     ]
    }
   ],
   "source": [
    "print(X_test_feature)"
   ]
  },
  {
   "cell_type": "code",
   "execution_count": 16,
   "id": "e2b94701-04a0-46f5-87bb-a5dac3e3088e",
   "metadata": {},
   "outputs": [],
   "source": [
    "model = LogisticRegression()"
   ]
  },
  {
   "cell_type": "code",
   "execution_count": 17,
   "id": "2bd5994a-d35f-42fe-9d3c-1913ab3a99d4",
   "metadata": {},
   "outputs": [
    {
     "data": {
      "text/html": [
       "<style>#sk-container-id-1 {color: black;}#sk-container-id-1 pre{padding: 0;}#sk-container-id-1 div.sk-toggleable {background-color: white;}#sk-container-id-1 label.sk-toggleable__label {cursor: pointer;display: block;width: 100%;margin-bottom: 0;padding: 0.3em;box-sizing: border-box;text-align: center;}#sk-container-id-1 label.sk-toggleable__label-arrow:before {content: \"▸\";float: left;margin-right: 0.25em;color: #696969;}#sk-container-id-1 label.sk-toggleable__label-arrow:hover:before {color: black;}#sk-container-id-1 div.sk-estimator:hover label.sk-toggleable__label-arrow:before {color: black;}#sk-container-id-1 div.sk-toggleable__content {max-height: 0;max-width: 0;overflow: hidden;text-align: left;background-color: #f0f8ff;}#sk-container-id-1 div.sk-toggleable__content pre {margin: 0.2em;color: black;border-radius: 0.25em;background-color: #f0f8ff;}#sk-container-id-1 input.sk-toggleable__control:checked~div.sk-toggleable__content {max-height: 200px;max-width: 100%;overflow: auto;}#sk-container-id-1 input.sk-toggleable__control:checked~label.sk-toggleable__label-arrow:before {content: \"▾\";}#sk-container-id-1 div.sk-estimator input.sk-toggleable__control:checked~label.sk-toggleable__label {background-color: #d4ebff;}#sk-container-id-1 div.sk-label input.sk-toggleable__control:checked~label.sk-toggleable__label {background-color: #d4ebff;}#sk-container-id-1 input.sk-hidden--visually {border: 0;clip: rect(1px 1px 1px 1px);clip: rect(1px, 1px, 1px, 1px);height: 1px;margin: -1px;overflow: hidden;padding: 0;position: absolute;width: 1px;}#sk-container-id-1 div.sk-estimator {font-family: monospace;background-color: #f0f8ff;border: 1px dotted black;border-radius: 0.25em;box-sizing: border-box;margin-bottom: 0.5em;}#sk-container-id-1 div.sk-estimator:hover {background-color: #d4ebff;}#sk-container-id-1 div.sk-parallel-item::after {content: \"\";width: 100%;border-bottom: 1px solid gray;flex-grow: 1;}#sk-container-id-1 div.sk-label:hover label.sk-toggleable__label {background-color: #d4ebff;}#sk-container-id-1 div.sk-serial::before {content: \"\";position: absolute;border-left: 1px solid gray;box-sizing: border-box;top: 0;bottom: 0;left: 50%;z-index: 0;}#sk-container-id-1 div.sk-serial {display: flex;flex-direction: column;align-items: center;background-color: white;padding-right: 0.2em;padding-left: 0.2em;position: relative;}#sk-container-id-1 div.sk-item {position: relative;z-index: 1;}#sk-container-id-1 div.sk-parallel {display: flex;align-items: stretch;justify-content: center;background-color: white;position: relative;}#sk-container-id-1 div.sk-item::before, #sk-container-id-1 div.sk-parallel-item::before {content: \"\";position: absolute;border-left: 1px solid gray;box-sizing: border-box;top: 0;bottom: 0;left: 50%;z-index: -1;}#sk-container-id-1 div.sk-parallel-item {display: flex;flex-direction: column;z-index: 1;position: relative;background-color: white;}#sk-container-id-1 div.sk-parallel-item:first-child::after {align-self: flex-end;width: 50%;}#sk-container-id-1 div.sk-parallel-item:last-child::after {align-self: flex-start;width: 50%;}#sk-container-id-1 div.sk-parallel-item:only-child::after {width: 0;}#sk-container-id-1 div.sk-dashed-wrapped {border: 1px dashed gray;margin: 0 0.4em 0.5em 0.4em;box-sizing: border-box;padding-bottom: 0.4em;background-color: white;}#sk-container-id-1 div.sk-label label {font-family: monospace;font-weight: bold;display: inline-block;line-height: 1.2em;}#sk-container-id-1 div.sk-label-container {text-align: center;}#sk-container-id-1 div.sk-container {/* jupyter's `normalize.less` sets `[hidden] { display: none; }` but bootstrap.min.css set `[hidden] { display: none !important; }` so we also need the `!important` here to be able to override the default hidden behavior on the sphinx rendered scikit-learn.org. See: https://github.com/scikit-learn/scikit-learn/issues/21755 */display: inline-block !important;position: relative;}#sk-container-id-1 div.sk-text-repr-fallback {display: none;}</style><div id=\"sk-container-id-1\" class=\"sk-top-container\"><div class=\"sk-text-repr-fallback\"><pre>LogisticRegression()</pre><b>In a Jupyter environment, please rerun this cell to show the HTML representation or trust the notebook. <br />On GitHub, the HTML representation is unable to render, please try loading this page with nbviewer.org.</b></div><div class=\"sk-container\" hidden><div class=\"sk-item\"><div class=\"sk-estimator sk-toggleable\"><input class=\"sk-toggleable__control sk-hidden--visually\" id=\"sk-estimator-id-1\" type=\"checkbox\" checked><label for=\"sk-estimator-id-1\" class=\"sk-toggleable__label sk-toggleable__label-arrow\">LogisticRegression</label><div class=\"sk-toggleable__content\"><pre>LogisticRegression()</pre></div></div></div></div></div>"
      ],
      "text/plain": [
       "LogisticRegression()"
      ]
     },
     "execution_count": 17,
     "metadata": {},
     "output_type": "execute_result"
    }
   ],
   "source": [
    "model.fit(X_train_feature, Y_train)"
   ]
  },
  {
   "cell_type": "code",
   "execution_count": 18,
   "id": "6e6af291-e118-4b9f-a9f5-fd3792710c40",
   "metadata": {},
   "outputs": [],
   "source": [
    "prediction_on_training_data = model.predict(X_train_feature)\n",
    "accuracy_on_training_data = accuracy_score(Y_train, prediction_on_training_data)"
   ]
  },
  {
   "cell_type": "code",
   "execution_count": 19,
   "id": "561dd158-fc15-4261-9e26-c69c6b81bea9",
   "metadata": {},
   "outputs": [
    {
     "name": "stdout",
     "output_type": "stream",
     "text": [
      "Accuracy on Training Data:  0.9670181736594121\n"
     ]
    }
   ],
   "source": [
    "print(\"Accuracy on Training Data: \", accuracy_on_training_data)"
   ]
  },
  {
   "cell_type": "code",
   "execution_count": 20,
   "id": "254fd756-b564-425b-af14-773cc33c13ab",
   "metadata": {},
   "outputs": [],
   "source": [
    "prediction_on_testing_data = model.predict(X_test_feature)\n",
    "accuracy_on_testing_data = accuracy_score(Y_test, prediction_on_testing_data)"
   ]
  },
  {
   "cell_type": "code",
   "execution_count": 25,
   "id": "a8187d3a-66bf-4624-9bfb-61154aaa3346",
   "metadata": {},
   "outputs": [
    {
     "name": "stdout",
     "output_type": "stream",
     "text": [
      "[0]\n",
      "This is a Smap Email\n"
     ]
    }
   ],
   "source": [
    "input_your_mail = ['''Congratulations! You've been selected as one of our lucky winners to receive an exclusive offer. Act now to claim your prize and enjoy incredible benefits! This limited-time offer is available to a select few, and you don't want to miss out.\n",
    "\n",
    "Here's what you can expect:\n",
    "\n",
    "Guaranteed cash rewards just for signing up!\n",
    "Access to secret investment opportunities for massive profits!\n",
    "Free luxury vacation vouchers – your dream getaway awaits!\n",
    "And much more!\n",
    "To claim your exclusive offer, simply click the link below and follow the easy steps:\n",
    "[Insert Suspicious Link]\n",
    "\n",
    "Hurry, this offer expires soon, and we have only a few spots left! Don't let this opportunity pass you by. Join the ranks of our satisfied winners today.''']\n",
    "input_data_feature = feature_extraction.transform(input_your_mail)\n",
    "prediction = model.predict(input_data_feature)\n",
    "\n",
    "print(prediction)\n",
    "\n",
    "if prediction == 0:\n",
    "    print(\"This is a Smap Email\")\n",
    "\n",
    "else:\n",
    "    print(\"This is a Ham Email\")"
   ]
  },
  {
   "cell_type": "code",
   "execution_count": null,
   "id": "0d133b13-a7f2-428e-86e2-afbfb2baca43",
   "metadata": {},
   "outputs": [],
   "source": []
  },
  {
   "cell_type": "code",
   "execution_count": null,
   "id": "0d741062-6445-4d21-a5e9-e1397820a9de",
   "metadata": {},
   "outputs": [],
   "source": []
  }
 ],
 "metadata": {
  "kernelspec": {
   "display_name": "Python 3 (ipykernel)",
   "language": "python",
   "name": "python3"
  },
  "language_info": {
   "codemirror_mode": {
    "name": "ipython",
    "version": 3
   },
   "file_extension": ".py",
   "mimetype": "text/x-python",
   "name": "python",
   "nbconvert_exporter": "python",
   "pygments_lexer": "ipython3",
   "version": "3.11.5"
  }
 },
 "nbformat": 4,
 "nbformat_minor": 5
}
